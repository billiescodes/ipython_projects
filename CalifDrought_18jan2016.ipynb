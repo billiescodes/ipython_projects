{
 "cells": [
  {
   "cell_type": "markdown",
   "metadata": {},
   "source": [
    "# Plot the California Drought\n",
    "  ###for the week of January 18, 2016"
   ]
  },
  {
   "cell_type": "code",
   "execution_count": 1,
   "metadata": {
    "collapsed": true
   },
   "outputs": [],
   "source": [
    "import numpy as np\n",
    "import pandas as pd\n",
    "from random import random\n",
    "\n",
    "import matplotlib\n",
    "import matplotlib.pyplot as plt\n",
    "%matplotlib inline"
   ]
  },
  {
   "cell_type": "code",
   "execution_count": 2,
   "metadata": {
    "collapsed": false
   },
   "outputs": [],
   "source": [
    "#Import the csv file\n",
    "Location = (r'~/Desktop/kiwicode/CA_drought/caliDrought_jan18.csv')\n",
    "\n",
    "df=pd.read_csv(Location)"
   ]
  },
  {
   "cell_type": "code",
   "execution_count": 3,
   "metadata": {
    "collapsed": false
   },
   "outputs": [
    {
     "data": {
      "text/html": [
       "<div>\n",
       "<table border=\"1\" class=\"dataframe\">\n",
       "  <thead>\n",
       "    <tr style=\"text-align: right;\">\n",
       "      <th></th>\n",
       "      <th>Week</th>\n",
       "      <th>None</th>\n",
       "      <th>D0-D4</th>\n",
       "      <th>D1-D4</th>\n",
       "      <th>D2-D4</th>\n",
       "      <th>D3-D4</th>\n",
       "      <th>D4</th>\n",
       "    </tr>\n",
       "  </thead>\n",
       "  <tbody>\n",
       "    <tr>\n",
       "      <th>0</th>\n",
       "      <td>Current2016-01-12</td>\n",
       "      <td>0.00</td>\n",
       "      <td>100.00</td>\n",
       "      <td>97.33</td>\n",
       "      <td>87.55</td>\n",
       "      <td>69.07</td>\n",
       "      <td>42.66</td>\n",
       "    </tr>\n",
       "    <tr>\n",
       "      <th>1</th>\n",
       "      <td>Last Week2016-01-05</td>\n",
       "      <td>0.00</td>\n",
       "      <td>100.00</td>\n",
       "      <td>97.33</td>\n",
       "      <td>87.55</td>\n",
       "      <td>69.07</td>\n",
       "      <td>44.84</td>\n",
       "    </tr>\n",
       "    <tr>\n",
       "      <th>2</th>\n",
       "      <td>3 Months Ago2015-10-13</td>\n",
       "      <td>0.14</td>\n",
       "      <td>99.86</td>\n",
       "      <td>97.33</td>\n",
       "      <td>92.36</td>\n",
       "      <td>71.08</td>\n",
       "      <td>46.00</td>\n",
       "    </tr>\n",
       "    <tr>\n",
       "      <th>3</th>\n",
       "      <td>Start of Calendar Year2015-12-29</td>\n",
       "      <td>0.00</td>\n",
       "      <td>100.00</td>\n",
       "      <td>97.33</td>\n",
       "      <td>87.55</td>\n",
       "      <td>69.07</td>\n",
       "      <td>44.84</td>\n",
       "    </tr>\n",
       "    <tr>\n",
       "      <th>4</th>\n",
       "      <td>Start of Water Year2015-09-29</td>\n",
       "      <td>0.14</td>\n",
       "      <td>99.86</td>\n",
       "      <td>97.33</td>\n",
       "      <td>92.36</td>\n",
       "      <td>71.08</td>\n",
       "      <td>46.00</td>\n",
       "    </tr>\n",
       "  </tbody>\n",
       "</table>\n",
       "</div>"
      ],
      "text/plain": [
       "                               Week  None   D0-D4  D1-D4  D2-D4  D3-D4     D4\n",
       "0                 Current2016-01-12  0.00  100.00  97.33  87.55  69.07  42.66\n",
       "1               Last Week2016-01-05  0.00  100.00  97.33  87.55  69.07  44.84\n",
       "2            3 Months Ago2015-10-13  0.14   99.86  97.33  92.36  71.08  46.00\n",
       "3  Start of Calendar Year2015-12-29  0.00  100.00  97.33  87.55  69.07  44.84\n",
       "4     Start of Water Year2015-09-29  0.14   99.86  97.33  92.36  71.08  46.00"
      ]
     },
     "execution_count": 3,
     "metadata": {},
     "output_type": "execute_result"
    }
   ],
   "source": [
    "# Show the raw data\n",
    "df.head()\n"
   ]
  },
  {
   "cell_type": "markdown",
   "metadata": {},
   "source": [
    "####This is a little confusing, so while I'm figuring it out here's what to do: \n",
    "1. transpose the cells: now the time ranges are in the column vectors\n",
    "   and the Drought Intensity D0 -- D4 are on the row vectors\n",
    "2. "
   ]
  },
  {
   "cell_type": "code",
   "execution_count": 4,
   "metadata": {
    "collapsed": false
   },
   "outputs": [],
   "source": [
    "#Step 1:  transpose, THEN APPLY SERIES!\n",
    "df = df.transpose()  # .convert_objects(convert_numeric=True)"
   ]
  },
  {
   "cell_type": "markdown",
   "metadata": {},
   "source": [
    "####This is a little confusing, so while I'm figuring it out here's what to do: \n",
    "1. Run the next cell without transposing the data\n",
    "    i.e. COMMMENT OUT last line\n",
    "2. Define a Series ID \n",
    "3. set an index: with set_index \n",
    "4. drop 'Series ID' column (last column)\n",
    "5. Lastly: Transpose again !!!"
   ]
  },
  {
   "cell_type": "code",
   "execution_count": 5,
   "metadata": {
    "collapsed": false
   },
   "outputs": [],
   "source": [
    "#Step2:  Apply an index to the data\n",
    "df['Series ID']= ['Week','None','Abnormally Dry','Moderate Drought','Severe Drought','Extreme Drought','Exceptional Drought']\n",
    "\n",
    "#Step3-4: Set the index Drop the 'Series ID' column, this is intended as the headline row\n",
    "df.set_index(df['Series ID'],inplace=True)\n",
    "df.drop('Series ID', axis=1, inplace=True)\n",
    "\n",
    "#this will TRANSPOSE\n",
    "#df = df.transpose().convert_objects(convert_numeric=True)"
   ]
  },
  {
   "cell_type": "code",
   "execution_count": 7,
   "metadata": {
    "collapsed": false,
    "scrolled": true
   },
   "outputs": [
    {
     "name": "stderr",
     "output_type": "stream",
     "text": [
      "/Users/billierolih/anaconda/lib/python2.7/site-packages/IPython/kernel/__main__.py:2: FutureWarning: convert_objects is deprecated.  Use the data-type specific converters pd.to_datetime, pd.to_timedelta and pd.to_numeric.\n",
      "  from IPython.kernel.zmq import kernelapp as app\n"
     ]
    }
   ],
   "source": [
    "#Step5: transpose again\n",
    "df = df.transpose().convert_objects(convert_numeric=True)\n"
   ]
  },
  {
   "cell_type": "code",
   "execution_count": 49,
   "metadata": {
    "collapsed": false
   },
   "outputs": [
    {
     "data": {
      "text/plain": [
       "<matplotlib.legend.Legend at 0x10dc1a790>"
      ]
     },
     "execution_count": 49,
     "metadata": {},
     "output_type": "execute_result"
    },
    {
     "data": {
      "text/plain": [
       "<matplotlib.figure.Figure at 0x10d5502d0>"
      ]
     },
     "metadata": {},
     "output_type": "display_data"
    },
    {
     "data": {
      "image/png": "[encoded data removed]",
      "text/plain": [
       "<matplotlib.figure.Figure at 0x10dc055d0>"
      ]
     },
     "metadata": {},
     "output_type": "display_data"
    }
   ],
   "source": [
    "# Now You can plot it, but this plot soreley needs some decent annotating b\n",
    "plt.figure();\n",
    "df.plot(kind='barh', stacked=True, edgecolor='none', figsize=(10,7));\n",
    "\n",
    "# Use bbox_to_anchor to place the legend outisde of the frame \n",
    "plt.legend(loc=1, bbox_to_anchor=(1.33, 1.0))\n"
   ]
  },
  {
   "cell_type": "code",
   "execution_count": 19,
   "metadata": {
    "collapsed": false
   },
   "outputs": [
    {
     "data": {
      "text/html": [
       "<div>\n",
       "<table border=\"1\" class=\"dataframe\">\n",
       "  <thead>\n",
       "    <tr style=\"text-align: right;\">\n",
       "      <th>Series ID</th>\n",
       "      <th>Week</th>\n",
       "      <th>None</th>\n",
       "      <th>Abnormally Dry</th>\n",
       "      <th>Moderate Drought</th>\n",
       "      <th>Severe Drought</th>\n",
       "      <th>Extreme Drought</th>\n",
       "      <th>Exceptional Drought</th>\n",
       "    </tr>\n",
       "  </thead>\n",
       "  <tbody>\n",
       "    <tr>\n",
       "      <th>0</th>\n",
       "      <td>Current2016-01-12</td>\n",
       "      <td>0.00</td>\n",
       "      <td>100.00</td>\n",
       "      <td>97.33</td>\n",
       "      <td>87.55</td>\n",
       "      <td>69.07</td>\n",
       "      <td>42.66</td>\n",
       "    </tr>\n",
       "    <tr>\n",
       "      <th>1</th>\n",
       "      <td>Last Week2016-01-05</td>\n",
       "      <td>0.00</td>\n",
       "      <td>100.00</td>\n",
       "      <td>97.33</td>\n",
       "      <td>87.55</td>\n",
       "      <td>69.07</td>\n",
       "      <td>44.84</td>\n",
       "    </tr>\n",
       "    <tr>\n",
       "      <th>2</th>\n",
       "      <td>3 Months Ago2015-10-13</td>\n",
       "      <td>0.14</td>\n",
       "      <td>99.86</td>\n",
       "      <td>97.33</td>\n",
       "      <td>92.36</td>\n",
       "      <td>71.08</td>\n",
       "      <td>46.00</td>\n",
       "    </tr>\n",
       "    <tr>\n",
       "      <th>3</th>\n",
       "      <td>Start of Calendar Year2015-12-29</td>\n",
       "      <td>0.00</td>\n",
       "      <td>100.00</td>\n",
       "      <td>97.33</td>\n",
       "      <td>87.55</td>\n",
       "      <td>69.07</td>\n",
       "      <td>44.84</td>\n",
       "    </tr>\n",
       "    <tr>\n",
       "      <th>4</th>\n",
       "      <td>Start of Water Year2015-09-29</td>\n",
       "      <td>0.14</td>\n",
       "      <td>99.86</td>\n",
       "      <td>97.33</td>\n",
       "      <td>92.36</td>\n",
       "      <td>71.08</td>\n",
       "      <td>46.00</td>\n",
       "    </tr>\n",
       "    <tr>\n",
       "      <th>5</th>\n",
       "      <td>One Year Ago2015-01-13</td>\n",
       "      <td>0.00</td>\n",
       "      <td>100.00</td>\n",
       "      <td>98.12</td>\n",
       "      <td>94.34</td>\n",
       "      <td>77.52</td>\n",
       "      <td>39.15</td>\n",
       "    </tr>\n",
       "  </tbody>\n",
       "</table>\n",
       "</div>"
      ],
      "text/plain": [
       "Series ID                              Week  None  Abnormally Dry  \\\n",
       "0                         Current2016-01-12  0.00          100.00   \n",
       "1                       Last Week2016-01-05  0.00          100.00   \n",
       "2                    3 Months Ago2015-10-13  0.14           99.86   \n",
       "3          Start of Calendar Year2015-12-29  0.00          100.00   \n",
       "4             Start of Water Year2015-09-29  0.14           99.86   \n",
       "5                    One Year Ago2015-01-13  0.00          100.00   \n",
       "\n",
       "Series ID  Moderate Drought  Severe Drought  Extreme Drought  \\\n",
       "0                     97.33           87.55            69.07   \n",
       "1                     97.33           87.55            69.07   \n",
       "2                     97.33           92.36            71.08   \n",
       "3                     97.33           87.55            69.07   \n",
       "4                     97.33           92.36            71.08   \n",
       "5                     98.12           94.34            77.52   \n",
       "\n",
       "Series ID  Exceptional Drought  \n",
       "0                        42.66  \n",
       "1                        44.84  \n",
       "2                        46.00  \n",
       "3                        44.84  \n",
       "4                        46.00  \n",
       "5                        39.15  "
      ]
     },
     "execution_count": 19,
     "metadata": {},
     "output_type": "execute_result"
    }
   ],
   "source": [
    "df"
   ]
  },
  {
   "cell_type": "code",
   "execution_count": null,
   "metadata": {
    "collapsed": true
   },
   "outputs": [],
   "source": []
  }
 ],
 "metadata": {
  "kernelspec": {
   "display_name": "Python 2",
   "language": "python",
   "name": "python2"
  },
  "language_info": {
   "codemirror_mode": {
    "name": "ipython",
    "version": 2
   },
   "file_extension": ".py",
   "mimetype": "text/x-python",
   "name": "python",
   "nbconvert_exporter": "python",
   "pygments_lexer": "ipython2",
   "version": "2.7.11"
  }
 },
 "nbformat": 4,
 "nbformat_minor": 0
}
