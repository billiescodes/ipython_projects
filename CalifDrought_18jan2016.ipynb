{
 "cells": [
  {
   "cell_type": "markdown",
   "metadata": {},
   "source": [
    "# Plot the California Drought\n",
    "  ###for the week of January 18, 2016"
   ]
  },
  {
   "cell_type": "code",
   "execution_count": 43,
   "metadata": {
    "collapsed": true
   },
   "outputs": [],
   "source": [
    "import numpy as np\n",
    "import pandas as pd\n",
    "from random import random\n",
    "\n",
    "import matplotlib\n",
    "import matplotlib.pyplot as plt\n",
    "%matplotlib inline"
   ]
  },
  {
   "cell_type": "code",
   "execution_count": 44,
   "metadata": {
    "collapsed": false
   },
   "outputs": [],
   "source": [
    "#Import the csv file\n",
    "Location = (r'~/Desktop/kiwicode/test_DataProject/caliDrought_jan18.csv')\n",
    "\n",
    "df=pd.read_csv(Location)"
   ]
  },
  {
   "cell_type": "code",
   "execution_count": 45,
   "metadata": {
    "collapsed": false
   },
   "outputs": [
    {
     "data": {
      "text/html": [
       "<div>\n",
       "<table border=\"1\" class=\"dataframe\">\n",
       "  <thead>\n",
       "    <tr style=\"text-align: right;\">\n",
       "      <th></th>\n",
       "      <th>Week</th>\n",
       "      <th>None</th>\n",
       "      <th>D0-D4</th>\n",
       "      <th>D1-D4</th>\n",
       "      <th>D2-D4</th>\n",
       "      <th>D3-D4</th>\n",
       "      <th>D4</th>\n",
       "    </tr>\n",
       "  </thead>\n",
       "  <tbody>\n",
       "    <tr>\n",
       "      <th>0</th>\n",
       "      <td>Current2016-01-12</td>\n",
       "      <td>0.00</td>\n",
       "      <td>100.00</td>\n",
       "      <td>97.33</td>\n",
       "      <td>87.55</td>\n",
       "      <td>69.07</td>\n",
       "      <td>42.66</td>\n",
       "    </tr>\n",
       "    <tr>\n",
       "      <th>1</th>\n",
       "      <td>Last Week2016-01-05</td>\n",
       "      <td>0.00</td>\n",
       "      <td>100.00</td>\n",
       "      <td>97.33</td>\n",
       "      <td>87.55</td>\n",
       "      <td>69.07</td>\n",
       "      <td>44.84</td>\n",
       "    </tr>\n",
       "    <tr>\n",
       "      <th>2</th>\n",
       "      <td>3 Months Ago2015-10-13</td>\n",
       "      <td>0.14</td>\n",
       "      <td>99.86</td>\n",
       "      <td>97.33</td>\n",
       "      <td>92.36</td>\n",
       "      <td>71.08</td>\n",
       "      <td>46.00</td>\n",
       "    </tr>\n",
       "    <tr>\n",
       "      <th>3</th>\n",
       "      <td>Start of Calendar Year2015-12-29</td>\n",
       "      <td>0.00</td>\n",
       "      <td>100.00</td>\n",
       "      <td>97.33</td>\n",
       "      <td>87.55</td>\n",
       "      <td>69.07</td>\n",
       "      <td>44.84</td>\n",
       "    </tr>\n",
       "    <tr>\n",
       "      <th>4</th>\n",
       "      <td>Start of Water Year2015-09-29</td>\n",
       "      <td>0.14</td>\n",
       "      <td>99.86</td>\n",
       "      <td>97.33</td>\n",
       "      <td>92.36</td>\n",
       "      <td>71.08</td>\n",
       "      <td>46.00</td>\n",
       "    </tr>\n",
       "  </tbody>\n",
       "</table>\n",
       "</div>"
      ],
      "text/plain": [
       "                               Week  None   D0-D4  D1-D4  D2-D4  D3-D4     D4\n",
       "0                 Current2016-01-12  0.00  100.00  97.33  87.55  69.07  42.66\n",
       "1               Last Week2016-01-05  0.00  100.00  97.33  87.55  69.07  44.84\n",
       "2            3 Months Ago2015-10-13  0.14   99.86  97.33  92.36  71.08  46.00\n",
       "3  Start of Calendar Year2015-12-29  0.00  100.00  97.33  87.55  69.07  44.84\n",
       "4     Start of Water Year2015-09-29  0.14   99.86  97.33  92.36  71.08  46.00"
      ]
     },
     "execution_count": 45,
     "metadata": {},
     "output_type": "execute_result"
    }
   ],
   "source": [
    "# Show the raw data\n",
    "df.head()\n"
   ]
  },
  {
   "cell_type": "code",
   "execution_count": 46,
   "metadata": {
    "collapsed": false
   },
   "outputs": [],
   "source": [
    "#FIRST transpose, THEN APPLY SERIES!\n",
    "df = df.transpose()  # .convert_objects(convert_numeric=True)"
   ]
  },
  {
   "cell_type": "code",
   "execution_count": 56,
   "metadata": {
    "collapsed": false
   },
   "outputs": [
    {
     "name": "stderr",
     "output_type": "stream",
     "text": [
      "/Users/billierolih/anaconda/lib/python2.7/site-packages/IPython/kernel/__main__.py:9: FutureWarning: convert_objects is deprecated.  Use the data-type specific converters pd.to_datetime, pd.to_timedelta and pd.to_numeric.\n"
     ]
    }
   ],
   "source": [
    "# Apply an index to the data\n",
    "df['Series ID']= ['Week','None','Abnormally Dry','Moderate Drought','Severe Drought','Extreme Drought','Exceptional Drought']\n",
    "\n",
    "# Set the index Drop the 'Series ID' column, this is intended as the headline row\n",
    "df.set_index(df['Series ID'],inplace=True)\n",
    "df.drop('Series ID', axis=1, inplace=True)\n",
    "\n",
    "#this will flip it\n",
    "df = df.transpose().convert_objects(convert_numeric=True)"
   ]
  },
  {
   "cell_type": "code",
   "execution_count": 57,
   "metadata": {
    "collapsed": false,
    "scrolled": true
   },
   "outputs": [
    {
     "data": {
      "text/html": [
       "<div>\n",
       "<table border=\"1\" class=\"dataframe\">\n",
       "  <thead>\n",
       "    <tr style=\"text-align: right;\">\n",
       "      <th>Series ID</th>\n",
       "      <th>Week</th>\n",
       "      <th>None</th>\n",
       "      <th>Abnormally Dry</th>\n",
       "      <th>Moderate Drought</th>\n",
       "      <th>Severe Drought</th>\n",
       "      <th>Extreme Drought</th>\n",
       "      <th>Exceptional Drought</th>\n",
       "    </tr>\n",
       "  </thead>\n",
       "  <tbody>\n",
       "    <tr>\n",
       "      <th>0</th>\n",
       "      <td>Current2016-01-12</td>\n",
       "      <td>0.00</td>\n",
       "      <td>100.00</td>\n",
       "      <td>97.33</td>\n",
       "      <td>87.55</td>\n",
       "      <td>69.07</td>\n",
       "      <td>42.66</td>\n",
       "    </tr>\n",
       "    <tr>\n",
       "      <th>1</th>\n",
       "      <td>Last Week2016-01-05</td>\n",
       "      <td>0.00</td>\n",
       "      <td>100.00</td>\n",
       "      <td>97.33</td>\n",
       "      <td>87.55</td>\n",
       "      <td>69.07</td>\n",
       "      <td>44.84</td>\n",
       "    </tr>\n",
       "    <tr>\n",
       "      <th>2</th>\n",
       "      <td>3 Months Ago2015-10-13</td>\n",
       "      <td>0.14</td>\n",
       "      <td>99.86</td>\n",
       "      <td>97.33</td>\n",
       "      <td>92.36</td>\n",
       "      <td>71.08</td>\n",
       "      <td>46.00</td>\n",
       "    </tr>\n",
       "    <tr>\n",
       "      <th>3</th>\n",
       "      <td>Start of Calendar Year2015-12-29</td>\n",
       "      <td>0.00</td>\n",
       "      <td>100.00</td>\n",
       "      <td>97.33</td>\n",
       "      <td>87.55</td>\n",
       "      <td>69.07</td>\n",
       "      <td>44.84</td>\n",
       "    </tr>\n",
       "    <tr>\n",
       "      <th>4</th>\n",
       "      <td>Start of Water Year2015-09-29</td>\n",
       "      <td>0.14</td>\n",
       "      <td>99.86</td>\n",
       "      <td>97.33</td>\n",
       "      <td>92.36</td>\n",
       "      <td>71.08</td>\n",
       "      <td>46.00</td>\n",
       "    </tr>\n",
       "    <tr>\n",
       "      <th>5</th>\n",
       "      <td>One Year Ago2015-01-13</td>\n",
       "      <td>0.00</td>\n",
       "      <td>100.00</td>\n",
       "      <td>98.12</td>\n",
       "      <td>94.34</td>\n",
       "      <td>77.52</td>\n",
       "      <td>39.15</td>\n",
       "    </tr>\n",
       "  </tbody>\n",
       "</table>\n",
       "</div>"
      ],
      "text/plain": [
       "Series ID                              Week  None  Abnormally Dry  \\\n",
       "0                         Current2016-01-12  0.00          100.00   \n",
       "1                       Last Week2016-01-05  0.00          100.00   \n",
       "2                    3 Months Ago2015-10-13  0.14           99.86   \n",
       "3          Start of Calendar Year2015-12-29  0.00          100.00   \n",
       "4             Start of Water Year2015-09-29  0.14           99.86   \n",
       "5                    One Year Ago2015-01-13  0.00          100.00   \n",
       "\n",
       "Series ID  Moderate Drought  Severe Drought  Extreme Drought  \\\n",
       "0                     97.33           87.55            69.07   \n",
       "1                     97.33           87.55            69.07   \n",
       "2                     97.33           92.36            71.08   \n",
       "3                     97.33           87.55            69.07   \n",
       "4                     97.33           92.36            71.08   \n",
       "5                     98.12           94.34            77.52   \n",
       "\n",
       "Series ID  Exceptional Drought  \n",
       "0                        42.66  \n",
       "1                        44.84  \n",
       "2                        46.00  \n",
       "3                        44.84  \n",
       "4                        46.00  \n",
       "5                        39.15  "
      ]
     },
     "execution_count": 57,
     "metadata": {},
     "output_type": "execute_result"
    }
   ],
   "source": [
    "df"
   ]
  },
  {
   "cell_type": "code",
   "execution_count": 58,
   "metadata": {
    "collapsed": false
   },
   "outputs": [
    {
     "data": {
      "text/plain": [
       "<matplotlib.axes._subplots.AxesSubplot at 0x10ce192d0>"
      ]
     },
     "execution_count": 58,
     "metadata": {},
     "output_type": "execute_result"
    },
    {
     "data": {
      "image/png": "[encoded data removed]",
      "text/plain": [
       "<matplotlib.figure.Figure at 0x107e436d0>"
      ]
     },
     "metadata": {},
     "output_type": "display_data"
    }
   ],
   "source": [
    "# plot it \n",
    "df.plot(kind='barh', stacked=True)"
   ]
  },
  {
   "cell_type": "code",
   "execution_count": 50,
   "metadata": {
    "collapsed": false
   },
   "outputs": [],
   "source": [
    "# use numpy's random.rand function to create a fake data frame\n",
    "df2 = pd.DataFrame(np.random.rand(10,4), columns=['a', 'b', 'c', 'd'])"
   ]
  },
  {
   "cell_type": "code",
   "execution_count": 53,
   "metadata": {
    "collapsed": false
   },
   "outputs": [
    {
     "data": {
      "text/plain": [
       "<matplotlib.axes._subplots.AxesSubplot at 0x10cc48c90>"
      ]
     },
     "execution_count": 53,
     "metadata": {},
     "output_type": "execute_result"
    },
    {
     "data": {
      "image/png": "[encoded data removed]",
      "text/plain": [
       "<matplotlib.figure.Figure at 0x10a91f290>"
      ]
     },
     "metadata": {},
     "output_type": "display_data"
    }
   ],
   "source": [
    "df2.plot(kind=\"barh\", stacked=True)\n"
   ]
  },
  {
   "cell_type": "code",
   "execution_count": 54,
   "metadata": {
    "collapsed": false
   },
   "outputs": [
    {
     "data": {
      "text/html": [
       "<div>\n",
       "<table border=\"1\" class=\"dataframe\">\n",
       "  <thead>\n",
       "    <tr style=\"text-align: right;\">\n",
       "      <th></th>\n",
       "      <th>a</th>\n",
       "      <th>b</th>\n",
       "      <th>c</th>\n",
       "      <th>d</th>\n",
       "    </tr>\n",
       "  </thead>\n",
       "  <tbody>\n",
       "    <tr>\n",
       "      <th>0</th>\n",
       "      <td>0.037205</td>\n",
       "      <td>0.094111</td>\n",
       "      <td>0.490802</td>\n",
       "      <td>0.112444</td>\n",
       "    </tr>\n",
       "    <tr>\n",
       "      <th>1</th>\n",
       "      <td>0.964283</td>\n",
       "      <td>0.974894</td>\n",
       "      <td>0.714910</td>\n",
       "      <td>0.301845</td>\n",
       "    </tr>\n",
       "    <tr>\n",
       "      <th>2</th>\n",
       "      <td>0.130885</td>\n",
       "      <td>0.153131</td>\n",
       "      <td>0.229342</td>\n",
       "      <td>0.533973</td>\n",
       "    </tr>\n",
       "    <tr>\n",
       "      <th>3</th>\n",
       "      <td>0.971054</td>\n",
       "      <td>0.359700</td>\n",
       "      <td>0.102107</td>\n",
       "      <td>0.849252</td>\n",
       "    </tr>\n",
       "    <tr>\n",
       "      <th>4</th>\n",
       "      <td>0.889847</td>\n",
       "      <td>0.183096</td>\n",
       "      <td>0.231657</td>\n",
       "      <td>0.880562</td>\n",
       "    </tr>\n",
       "    <tr>\n",
       "      <th>5</th>\n",
       "      <td>0.994948</td>\n",
       "      <td>0.687931</td>\n",
       "      <td>0.994545</td>\n",
       "      <td>0.838381</td>\n",
       "    </tr>\n",
       "    <tr>\n",
       "      <th>6</th>\n",
       "      <td>0.249279</td>\n",
       "      <td>0.108757</td>\n",
       "      <td>0.347381</td>\n",
       "      <td>0.644608</td>\n",
       "    </tr>\n",
       "    <tr>\n",
       "      <th>7</th>\n",
       "      <td>0.476083</td>\n",
       "      <td>0.456181</td>\n",
       "      <td>0.252790</td>\n",
       "      <td>0.800631</td>\n",
       "    </tr>\n",
       "    <tr>\n",
       "      <th>8</th>\n",
       "      <td>0.023092</td>\n",
       "      <td>0.071681</td>\n",
       "      <td>0.449679</td>\n",
       "      <td>0.491772</td>\n",
       "    </tr>\n",
       "    <tr>\n",
       "      <th>9</th>\n",
       "      <td>0.683543</td>\n",
       "      <td>0.829212</td>\n",
       "      <td>0.621549</td>\n",
       "      <td>0.874996</td>\n",
       "    </tr>\n",
       "  </tbody>\n",
       "</table>\n",
       "</div>"
      ],
      "text/plain": [
       "          a         b         c         d\n",
       "0  0.037205  0.094111  0.490802  0.112444\n",
       "1  0.964283  0.974894  0.714910  0.301845\n",
       "2  0.130885  0.153131  0.229342  0.533973\n",
       "3  0.971054  0.359700  0.102107  0.849252\n",
       "4  0.889847  0.183096  0.231657  0.880562\n",
       "5  0.994948  0.687931  0.994545  0.838381\n",
       "6  0.249279  0.108757  0.347381  0.644608\n",
       "7  0.476083  0.456181  0.252790  0.800631\n",
       "8  0.023092  0.071681  0.449679  0.491772\n",
       "9  0.683543  0.829212  0.621549  0.874996"
      ]
     },
     "execution_count": 54,
     "metadata": {},
     "output_type": "execute_result"
    }
   ],
   "source": [
    "df2"
   ]
  },
  {
   "cell_type": "code",
   "execution_count": null,
   "metadata": {
    "collapsed": true
   },
   "outputs": [],
   "source": []
  }
 ],
 "metadata": {
  "kernelspec": {
   "display_name": "Python 2",
   "language": "python",
   "name": "python2"
  },
  "language_info": {
   "codemirror_mode": {
    "name": "ipython",
    "version": 2
   },
   "file_extension": ".py",
   "mimetype": "text/x-python",
   "name": "python",
   "nbconvert_exporter": "python",
   "pygments_lexer": "ipython2",
   "version": "2.7.11"
  }
 },
 "nbformat": 4,
 "nbformat_minor": 0
}
